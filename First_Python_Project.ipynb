{
  "nbformat": 4,
  "nbformat_minor": 0,
  "metadata": {
    "colab": {
      "name": "First Python Project",
      "provenance": [],
      "authorship_tag": "ABX9TyNVbfVQbVp8te1msQx1ivRw",
      "include_colab_link": true
    },
    "kernelspec": {
      "name": "python3",
      "display_name": "Python 3"
    },
    "language_info": {
      "name": "python"
    }
  },
  "cells": [
    {
      "cell_type": "markdown",
      "metadata": {
        "id": "view-in-github",
        "colab_type": "text"
      },
      "source": [
        "<a href=\"https://colab.research.google.com/github/ellyisabirye/CV-in-making/blob/master/First_Python_Project.ipynb\" target=\"_parent\"><img src=\"https://colab.research.google.com/assets/colab-badge.svg\" alt=\"Open In Colab\"/></a>"
      ]
    },
    {
      "cell_type": "markdown",
      "source": [
        "##***My first Python Code***##"
      ],
      "metadata": {
        "id": "HFwfK-Gd4CmJ"
      }
    },
    {
      "cell_type": "markdown",
      "source": [
        "***Arithmetic***"
      ],
      "metadata": {
        "id": "dFFJxMfC3MnS"
      }
    },
    {
      "cell_type": "code",
      "execution_count": null,
      "metadata": {
        "colab": {
          "base_uri": "https://localhost:8080/"
        },
        "id": "H5tdbe3g2pd1",
        "outputId": "001d40cd-f0ec-4397-df10-bcd03f6f3123"
      },
      "outputs": [
        {
          "output_type": "execute_result",
          "data": {
            "text/plain": [
              "12"
            ]
          },
          "metadata": {},
          "execution_count": 59
        }
      ],
      "source": [
        "3+9"
      ]
    },
    {
      "cell_type": "code",
      "source": [
        "22/7"
      ],
      "metadata": {
        "colab": {
          "base_uri": "https://localhost:8080/"
        },
        "id": "7RNcdDmmUXu9",
        "outputId": "c9469880-2b01-4a0f-b2a6-68348e19babe"
      },
      "execution_count": null,
      "outputs": [
        {
          "output_type": "execute_result",
          "data": {
            "text/plain": [
              "3.142857142857143"
            ]
          },
          "metadata": {},
          "execution_count": 60
        }
      ]
    },
    {
      "cell_type": "code",
      "source": [
        "22//7"
      ],
      "metadata": {
        "colab": {
          "base_uri": "https://localhost:8080/"
        },
        "id": "yuQAf8p3VDjy",
        "outputId": "287db64b-0d3f-4dd1-e798-111dcbd634f4"
      },
      "execution_count": null,
      "outputs": [
        {
          "output_type": "execute_result",
          "data": {
            "text/plain": [
              "3"
            ]
          },
          "metadata": {},
          "execution_count": 61
        }
      ]
    },
    {
      "cell_type": "code",
      "source": [
        "100%7"
      ],
      "metadata": {
        "colab": {
          "base_uri": "https://localhost:8080/"
        },
        "id": "fV9b34H3Uwm6",
        "outputId": "0c02d1d0-c0f1-4556-895e-dc3ccc093c7d"
      },
      "execution_count": null,
      "outputs": [
        {
          "output_type": "execute_result",
          "data": {
            "text/plain": [
              "2"
            ]
          },
          "metadata": {},
          "execution_count": 62
        }
      ]
    },
    {
      "cell_type": "code",
      "source": [
        "5**3"
      ],
      "metadata": {
        "colab": {
          "base_uri": "https://localhost:8080/"
        },
        "id": "z8KtQnzdV3UL",
        "outputId": "7098921f-907b-4f2b-a33e-cf073b97b2ab"
      },
      "execution_count": null,
      "outputs": [
        {
          "output_type": "execute_result",
          "data": {
            "text/plain": [
              "125"
            ]
          },
          "metadata": {},
          "execution_count": 63
        }
      ]
    },
    {
      "cell_type": "code",
      "source": [
        "5000-(2265+2150)"
      ],
      "metadata": {
        "colab": {
          "base_uri": "https://localhost:8080/"
        },
        "id": "1IwaKcrHYHIX",
        "outputId": "cf8db1b8-2733-438f-9272-8efdd2484b59"
      },
      "execution_count": null,
      "outputs": [
        {
          "output_type": "execute_result",
          "data": {
            "text/plain": [
              "585"
            ]
          },
          "metadata": {},
          "execution_count": 64
        }
      ]
    },
    {
      "cell_type": "code",
      "source": [
        "(0.2*1.25)*500"
      ],
      "metadata": {
        "colab": {
          "base_uri": "https://localhost:8080/"
        },
        "id": "xMOmDG5sbIEr",
        "outputId": "fa7d8f01-cf79-421d-e79f-ffa2a63b9adc"
      },
      "execution_count": null,
      "outputs": [
        {
          "output_type": "execute_result",
          "data": {
            "text/plain": [
              "125.0"
            ]
          },
          "metadata": {},
          "execution_count": 65
        }
      ]
    },
    {
      "cell_type": "markdown",
      "source": [
        "Now we look at solving problems while creating **VARIABLES**"
      ],
      "metadata": {
        "id": "8omXv6zFbho_"
      }
    },
    {
      "cell_type": "code",
      "source": [
        "cost_per_bag = 1.25"
      ],
      "metadata": {
        "id": "YNXY211Mbu-v"
      },
      "execution_count": 5,
      "outputs": []
    },
    {
      "cell_type": "code",
      "source": [
        "proft_margin = 0.2"
      ],
      "metadata": {
        "id": "C-XpN1Ipb2Gu"
      },
      "execution_count": 6,
      "outputs": []
    },
    {
      "cell_type": "code",
      "source": [
        "number_of_bags = 500"
      ],
      "metadata": {
        "id": "lQPI5TtBb7R3"
      },
      "execution_count": 7,
      "outputs": []
    },
    {
      "cell_type": "code",
      "source": [
        "profit_per_bag = cost_per_bag*proft_margin"
      ],
      "metadata": {
        "id": "xHGOnfuccCVt"
      },
      "execution_count": 8,
      "outputs": []
    },
    {
      "cell_type": "code",
      "source": [
        "profit_per_bag"
      ],
      "metadata": {
        "colab": {
          "base_uri": "https://localhost:8080/"
        },
        "id": "X0djQuV6c8dV",
        "outputId": "06504b56-3f62-4ad2-bb7f-83a8086a550e"
      },
      "execution_count": 9,
      "outputs": [
        {
          "output_type": "execute_result",
          "data": {
            "text/plain": [
              "0.25"
            ]
          },
          "metadata": {},
          "execution_count": 9
        }
      ]
    },
    {
      "cell_type": "code",
      "source": [
        "profit_500_bags = profit_per_bag*500"
      ],
      "metadata": {
        "id": "bY59REXjehrl"
      },
      "execution_count": 10,
      "outputs": []
    },
    {
      "cell_type": "code",
      "source": [
        "profit_500_bags"
      ],
      "metadata": {
        "colab": {
          "base_uri": "https://localhost:8080/"
        },
        "id": "ksLsSciyeotj",
        "outputId": "5bc64193-90d1-464f-af05-25b295d3a2d0"
      },
      "execution_count": 11,
      "outputs": [
        {
          "output_type": "execute_result",
          "data": {
            "text/plain": [
              "125.0"
            ]
          },
          "metadata": {},
          "execution_count": 11
        }
      ]
    },
    {
      "cell_type": "code",
      "source": [
        "print(\"The grocery store makes USD\",profit_500_bags,\"from 500 bags\")"
      ],
      "metadata": {
        "colab": {
          "base_uri": "https://localhost:8080/"
        },
        "id": "ONWRW1R7l5AV",
        "outputId": "d4e865da-dad6-4834-c5e5-148be4ff2f6d"
      },
      "execution_count": null,
      "outputs": [
        {
          "output_type": "stream",
          "name": "stdout",
          "text": [
            "The grocery store makes USD 125.0 from 500 bags\n"
          ]
        }
      ]
    },
    {
      "cell_type": "code",
      "source": [
        "# You can now write multiple lines of code within 1 code cell \n",
        "unit_price = 1.25\n",
        "profit_margin = 0.2\n",
        "number_of_units = 500\n",
        "\n",
        "# then the calculations\n",
        "\n",
        "unit_profit = unit_price*profit_margin\n",
        "total_profit = unit_profit*number_of_units\n",
        "\n",
        "# Display the result\n",
        "print(\"The grocery store makes USD\",int(total_profit),\"from 500 bags\")"
      ],
      "metadata": {
        "colab": {
          "base_uri": "https://localhost:8080/"
        },
        "id": "0OkbCUKcmLMC",
        "outputId": "73fe4ce4-4162-4bbe-8c66-07b11520b030"
      },
      "execution_count": 12,
      "outputs": [
        {
          "output_type": "stream",
          "name": "stdout",
          "text": [
            "The grocery store makes USD 125 from 500 bags\n"
          ]
        }
      ]
    },
    {
      "cell_type": "markdown",
      "source": [
        "Conditional Operators"
      ],
      "metadata": {
        "id": "GOwmQjcAoosj"
      }
    },
    {
      "cell_type": "code",
      "source": [
        "# Here we can use oepartors like = < > != >= <= and these will return TRUE or FALSE\n",
        "\n",
        "my_first_job = \"Teaching Assistant\"\n",
        "my_second_job = \"Business Analyst\"\n",
        "my_current_job =\"Viewing Analyst\"\n",
        "my_next_job = \"BI Analyst\"\n",
        "print(my_first_job)"
      ],
      "metadata": {
        "id": "01jfgcKQoyWC",
        "colab": {
          "base_uri": "https://localhost:8080/"
        },
        "outputId": "b70ff79e-3a0a-40a1-9768-44e84eb3cf21"
      },
      "execution_count": 15,
      "outputs": [
        {
          "output_type": "stream",
          "name": "stdout",
          "text": [
            "Teaching Assistant\n"
          ]
        }
      ]
    },
    {
      "cell_type": "code",
      "source": [
        "#The equality Check\n",
        "my_first_job == \"Teaching Assistant\""
      ],
      "metadata": {
        "colab": {
          "base_uri": "https://localhost:8080/"
        },
        "id": "MPWs_Ufotev1",
        "outputId": "e64fc80d-8393-4b9c-ceed-5462249d95ec"
      },
      "execution_count": 16,
      "outputs": [
        {
          "output_type": "execute_result",
          "data": {
            "text/plain": [
              "True"
            ]
          },
          "metadata": {},
          "execution_count": 16
        }
      ]
    },
    {
      "cell_type": "code",
      "source": [
        "what = my_first_job != \"Teaching Assistant\""
      ],
      "metadata": {
        "id": "TRfg6021tzfj"
      },
      "execution_count": 19,
      "outputs": []
    },
    {
      "cell_type": "code",
      "source": [
        "type(what)"
      ],
      "metadata": {
        "colab": {
          "base_uri": "https://localhost:8080/"
        },
        "id": "_5AAzxmyktRA",
        "outputId": "c5eca10b-d7cd-41b4-de7b-87e02aaa3cfb"
      },
      "execution_count": 20,
      "outputs": [
        {
          "output_type": "execute_result",
          "data": {
            "text/plain": [
              "bool"
            ]
          },
          "metadata": {},
          "execution_count": 20
        }
      ]
    },
    {
      "cell_type": "code",
      "source": [
        "is_my_new_job = my_next_job == \"BI Analyst\"\n",
        "print(\"is my new job BI Analyst,\", is_my_new_job)"
      ],
      "metadata": {
        "colab": {
          "base_uri": "https://localhost:8080/"
        },
        "id": "rfu9ral_ueDq",
        "outputId": "bcd8b9dd-537b-47a1-8373-6de3cf1fb814"
      },
      "execution_count": null,
      "outputs": [
        {
          "output_type": "stream",
          "name": "stdout",
          "text": [
            "is my new job BI Analyst, True\n"
          ]
        }
      ]
    },
    {
      "cell_type": "code",
      "source": [
        "# More examples\n",
        "\n",
        "a = 20\n",
        "b = 25\n",
        "c = 30\n",
        "is_a_greater_or_equal_to_b = a>=b\n",
        "print(\"is a greater or equal to b, \",is_a_greater_or_equal_to_b)"
      ],
      "metadata": {
        "colab": {
          "base_uri": "https://localhost:8080/"
        },
        "id": "KnXTwtbfvx40",
        "outputId": "29194e0d-9412-4bdd-b9ef-6596eae2dfb8"
      },
      "execution_count": 3,
      "outputs": [
        {
          "output_type": "stream",
          "name": "stdout",
          "text": [
            "is a greater or equal to b,  False\n"
          ]
        }
      ]
    },
    {
      "cell_type": "code",
      "source": [
        "\n",
        "# Combining conditional operators using AND, OR NOT, the Logical operators\n",
        "\n",
        "a==b or b<c"
      ],
      "metadata": {
        "colab": {
          "base_uri": "https://localhost:8080/"
        },
        "id": "worJmAMYw1Ay",
        "outputId": "ecc2e398-a5ee-47a0-d551-885eb35bafb5"
      },
      "execution_count": null,
      "outputs": [
        {
          "output_type": "execute_result",
          "data": {
            "text/plain": [
              "True"
            ]
          },
          "metadata": {},
          "execution_count": 80
        }
      ]
    },
    {
      "cell_type": "code",
      "source": [
        "not a==b"
      ],
      "metadata": {
        "colab": {
          "base_uri": "https://localhost:8080/"
        },
        "id": "pzeUQ1XQ9Q5t",
        "outputId": "ef6d933f-2833-4835-9992-6eb33bfe52a4"
      },
      "execution_count": null,
      "outputs": [
        {
          "output_type": "execute_result",
          "data": {
            "text/plain": [
              "True"
            ]
          },
          "metadata": {},
          "execution_count": 81
        }
      ]
    },
    {
      "cell_type": "markdown",
      "source": [
        "# In Phython(While using Jupiter) one can use the Markdown format in order to be more organised for example;\n",
        "* using # will help in making headers or simply increasing size of the text\n",
        "* the '* ball' will help you make dotted lists, or you can use '1. ball'\n",
        "* https://www.google.com/ will help you add a link\n"
      ],
      "metadata": {
        "id": "uZDSPbIt-CNV"
      }
    },
    {
      "cell_type": "markdown",
      "source": [
        "## Also one can use code blocks in Markdown"
      ],
      "metadata": {
        "id": "NtfDyQ3kAnTB"
      }
    },
    {
      "cell_type": "markdown",
      "source": [
        " # **Variables and Data Types in Python**"
      ],
      "metadata": {
        "id": "ngO2iH_MMqeS"
      }
    },
    {
      "cell_type": "markdown",
      "source": [
        "### Variables are used to store data/information which could be of different types. The data stored within a variable is called a value. \n",
        "* You can easily assign value to a variable by simply; my_fav_car = \"volvo\"\n",
        "* The variable types may include: int, float, bool, str\n"
      ],
      "metadata": {
        "id": "FdtLNoSCNgKh"
      }
    },
    {
      "cell_type": "code",
      "source": [
        "my_fav_color = \"blue\"\n",
        "my_fav_car = \"volvo\"\n",
        "print(\"my favorite car is a\", my_fav_color , my_fav_car)"
      ],
      "metadata": {
        "colab": {
          "base_uri": "https://localhost:8080/"
        },
        "id": "ndpTtTUhM8Lj",
        "outputId": "20b54905-bf68-4557-bce5-a6cf3a51b859"
      },
      "execution_count": 21,
      "outputs": [
        {
          "output_type": "stream",
          "name": "stdout",
          "text": [
            "my favorite car is a blue volvo\n"
          ]
        }
      ]
    },
    {
      "cell_type": "code",
      "source": [
        "#One can also assign multiple values to multiple variables in a single line of code\n",
        "color1, color2, color3 =\"red\",\"blue\",\"white\"\n",
        "print(color2)"
      ],
      "metadata": {
        "colab": {
          "base_uri": "https://localhost:8080/"
        },
        "id": "q489tBbKdFA5",
        "outputId": "9dcf1118-c063-4d3a-ae02-c72bbeaf7e15"
      },
      "execution_count": 22,
      "outputs": [
        {
          "output_type": "stream",
          "name": "stdout",
          "text": [
            "blue\n"
          ]
        }
      ]
    },
    {
      "cell_type": "code",
      "source": [
        "#you can also assign one value to multple variables through a chain\n",
        "color4=color5=color6 = \"black\"\n",
        "print(color6)"
      ],
      "metadata": {
        "colab": {
          "base_uri": "https://localhost:8080/"
        },
        "id": "th9qlrzBdcGT",
        "outputId": "e92638fc-36b4-43ff-ef80-1fb794d34afe"
      },
      "execution_count": 23,
      "outputs": [
        {
          "output_type": "stream",
          "name": "stdout",
          "text": [
            "black\n"
          ]
        }
      ]
    },
    {
      "cell_type": "code",
      "source": [
        "#More variables\n",
        "is_today_Saturday = False\n",
        "the_3_musketeers = [\"Athos\", \"Porthos\", \"Aramis\"] #this is a list"
      ],
      "metadata": {
        "id": "m9OgNIk-gCER"
      },
      "execution_count": 24,
      "outputs": []
    },
    {
      "cell_type": "code",
      "source": [
        "# you can check the type of the varible using the type function\n",
        "\n",
        "y=type(color1)\n",
        "y"
      ],
      "metadata": {
        "colab": {
          "base_uri": "https://localhost:8080/"
        },
        "id": "JQ5CEzQ_e4Y4",
        "outputId": "814e6d78-984f-4509-8161-b9cf5cd1d71e"
      },
      "execution_count": 25,
      "outputs": [
        {
          "output_type": "execute_result",
          "data": {
            "text/plain": [
              "str"
            ]
          },
          "metadata": {},
          "execution_count": 25
        }
      ]
    },
    {
      "cell_type": "code",
      "source": [
        "type(the_3_musketeers)"
      ],
      "metadata": {
        "colab": {
          "base_uri": "https://localhost:8080/"
        },
        "id": "rGpfnQDXgQzZ",
        "outputId": "e2dcb09d-d6a3-4dc0-d643-c3029ee14b2b"
      },
      "execution_count": 26,
      "outputs": [
        {
          "output_type": "execute_result",
          "data": {
            "text/plain": [
              "list"
            ]
          },
          "metadata": {},
          "execution_count": 26
        }
      ]
    },
    {
      "cell_type": "markdown",
      "source": [
        "### Also with variable type float, one can convert this to int through a process known as casting"
      ],
      "metadata": {
        "id": "vuE5VCw5h2Tt"
      }
    },
    {
      "cell_type": "code",
      "source": [
        "pi = 22/7 # pi = 3.14...... and is a float\n",
        "int(pi) #then casting with int changes the variable type to an integer"
      ],
      "metadata": {
        "colab": {
          "base_uri": "https://localhost:8080/"
        },
        "id": "mjV6HHE-iEft",
        "outputId": "a5820c9b-a8bf-40ce-c1a5-9b89d109ef1a"
      },
      "execution_count": 27,
      "outputs": [
        {
          "output_type": "execute_result",
          "data": {
            "text/plain": [
              "3"
            ]
          },
          "metadata": {},
          "execution_count": 27
        }
      ]
    },
    {
      "cell_type": "code",
      "source": [
        "float(a) #a=20 is an int but casting with float(a) will make it a float"
      ],
      "metadata": {
        "colab": {
          "base_uri": "https://localhost:8080/"
        },
        "id": "pYoiVSRVigbl",
        "outputId": "8fb1a3b0-c421-444a-d979-38e94699f00a"
      },
      "execution_count": 29,
      "outputs": [
        {
          "output_type": "execute_result",
          "data": {
            "text/plain": [
              "20.0"
            ]
          },
          "metadata": {},
          "execution_count": 29
        }
      ]
    },
    {
      "cell_type": "code",
      "source": [
        "# One should know that any value can be converted to a Boolean using the bool function. But only falsy values like False, 0, 0.0, None(empty value), empty text will convert to False.\n",
        "# A value that evaluates to True is often called a truthy value\n",
        "#Booleans automatically convert to int when used in arithmetic operations. True is converted to 1 and Falso to 0.\n",
        "add_false = 5 + False\n",
        "add_true = 5 + True\n",
        "print(add_false,\",\",add_true)"
      ],
      "metadata": {
        "colab": {
          "base_uri": "https://localhost:8080/"
        },
        "id": "v-PcPQfBonbn",
        "outputId": "a7123af1-6e5f-47bd-d453-b649b749911e"
      },
      "execution_count": 33,
      "outputs": [
        {
          "output_type": "stream",
          "name": "stdout",
          "text": [
            "5 , 6\n"
          ]
        }
      ]
    },
    {
      "cell_type": "markdown",
      "source": [
        "### **String variables** \n",
        "A string represents text in Python. Strings must be surrounded using quotations, either double \" \" or single quotes ' '. Strings have the type *str*"
      ],
      "metadata": {
        "id": "0NuRsfCFqrVa"
      }
    },
    {
      "cell_type": "code",
      "source": [
        "today = 'Saturday'\n",
        "type(today)"
      ],
      "metadata": {
        "colab": {
          "base_uri": "https://localhost:8080/"
        },
        "id": "rRmEd0n_rln4",
        "outputId": "d21cf1ba-1cec-4282-bdaa-257dab83f6c6"
      },
      "execution_count": 36,
      "outputs": [
        {
          "output_type": "execute_result",
          "data": {
            "text/plain": [
              "str"
            ]
          },
          "metadata": {},
          "execution_count": 36
        }
      ]
    },
    {
      "cell_type": "code",
      "source": [
        "#If you have a single qote inside a string then sorround with double quotes and vice versa eg. \n",
        "Triangle3 = \"Elly's triangle\"\n",
        "what_he_said = 'These were his words, \"do not bring here here\" '\n",
        "# Three quotes at start and end will help write strings that span multiple lines e.g \n",
        "print(\"\"\" here we go\n",
        "          again tomorrow\n",
        "in Ohio\"\"\")"
      ],
      "metadata": {
        "colab": {
          "base_uri": "https://localhost:8080/"
        },
        "id": "4O-eElGksbc6",
        "outputId": "a7f2fdb9-ffa2-49d0-925b-8577251ea2fe"
      },
      "execution_count": 40,
      "outputs": [
        {
          "output_type": "stream",
          "name": "stdout",
          "text": [
            " here we go\n",
            "          again tomorrow\n",
            "in Ohio\n"
          ]
        }
      ]
    },
    {
      "cell_type": "markdown",
      "source": [
        "The ***len*** function with help you establish the lenght of a value or variable. \n",
        "Note that a space in string is also counted as a charcter and contributes to its lenght"
      ],
      "metadata": {
        "id": "awF396HmuZHv"
      }
    },
    {
      "cell_type": "code",
      "source": [
        "len(Triangle3)"
      ],
      "metadata": {
        "colab": {
          "base_uri": "https://localhost:8080/"
        },
        "id": "fGW_9IY5u31q",
        "outputId": "a4bece49-1c8a-4749-8168-bc018571a0a9"
      },
      "execution_count": 41,
      "outputs": [
        {
          "output_type": "execute_result",
          "data": {
            "text/plain": [
              "15"
            ]
          },
          "metadata": {},
          "execution_count": 41
        }
      ]
    },
    {
      "cell_type": "markdown",
      "source": [
        "You can also convert a string to a list by using the ***list*** function."
      ],
      "metadata": {
        "id": "T7VnZNBxvbBm"
      }
    },
    {
      "cell_type": "code",
      "source": [
        "list(Triangle3)"
      ],
      "metadata": {
        "colab": {
          "base_uri": "https://localhost:8080/"
        },
        "id": "AAnm6AwRvnIO",
        "outputId": "549df16a-fdff-42ca-f57a-e0b82e94ae83"
      },
      "execution_count": 43,
      "outputs": [
        {
          "output_type": "execute_result",
          "data": {
            "text/plain": [
              "['E', 'l', 'l', 'y', \"'\", 's', ' ', 't', 'r', 'i', 'a', 'n', 'g', 'l', 'e']"
            ]
          },
          "metadata": {},
          "execution_count": 43
        }
      ]
    },
    {
      "cell_type": "markdown",
      "source": [
        "You can access a particular character in a string by providing its position say Triangle3[2] gives us the 2nd character in that string variable. Also, one can be able to access part of the string by provding a range e.g Triangle3[3:5]"
      ],
      "metadata": {
        "id": "I9k7mEFTwE8T"
      }
    },
    {
      "cell_type": "code",
      "source": [
        "Triangle3[3]"
      ],
      "metadata": {
        "colab": {
          "base_uri": "https://localhost:8080/",
          "height": 35
        },
        "id": "4S5hekkYwmoP",
        "outputId": "e6fe4e7f-9de6-47ac-8387-c15241194ac8"
      },
      "execution_count": 44,
      "outputs": [
        {
          "output_type": "execute_result",
          "data": {
            "text/plain": [
              "'y'"
            ],
            "application/vnd.google.colaboratory.intrinsic+json": {
              "type": "string"
            }
          },
          "metadata": {},
          "execution_count": 44
        }
      ]
    },
    {
      "cell_type": "code",
      "source": [
        "Triangle3[3:7]"
      ],
      "metadata": {
        "colab": {
          "base_uri": "https://localhost:8080/",
          "height": 35
        },
        "id": "PjMlnGR-wrGd",
        "outputId": "c07402c7-cab3-46c4-e7c1-cabd297d9131"
      },
      "execution_count": 47,
      "outputs": [
        {
          "output_type": "execute_result",
          "data": {
            "text/plain": [
              "\"y's \""
            ],
            "application/vnd.google.colaboratory.intrinsic+json": {
              "type": "string"
            }
          },
          "metadata": {},
          "execution_count": 47
        }
      ]
    },
    {
      "cell_type": "markdown",
      "source": [
        "You can also check if a string contains a certain character or set of characters using ***in***"
      ],
      "metadata": {
        "id": "sS17VBB5xoM2"
      }
    },
    {
      "cell_type": "code",
      "source": [
        "'Elly' in Triangle3"
      ],
      "metadata": {
        "colab": {
          "base_uri": "https://localhost:8080/"
        },
        "id": "X7duMYFex-4m",
        "outputId": "41f76794-28c6-47f5-e572-0a62bb4c071b"
      },
      "execution_count": 48,
      "outputs": [
        {
          "output_type": "execute_result",
          "data": {
            "text/plain": [
              "True"
            ]
          },
          "metadata": {},
          "execution_count": 48
        }
      ]
    },
    {
      "cell_type": "code",
      "source": [
        "'Peter' in Triangle3"
      ],
      "metadata": {
        "colab": {
          "base_uri": "https://localhost:8080/"
        },
        "id": "HgTRo0ZYyG8u",
        "outputId": "7eeb3257-d1a2-4041-8051-910d7963d69e"
      },
      "execution_count": 49,
      "outputs": [
        {
          "output_type": "execute_result",
          "data": {
            "text/plain": [
              "False"
            ]
          },
          "metadata": {},
          "execution_count": 49
        }
      ]
    }
  ]
}