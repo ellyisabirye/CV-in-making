{
  "nbformat": 4,
  "nbformat_minor": 0,
  "metadata": {
    "colab": {
      "name": "First Python Project",
      "provenance": [],
      "authorship_tag": "ABX9TyMCwVmkyR3QCVoHzybfi4C+",
      "include_colab_link": true
    },
    "kernelspec": {
      "name": "python3",
      "display_name": "Python 3"
    },
    "language_info": {
      "name": "python"
    }
  },
  "cells": [
    {
      "cell_type": "markdown",
      "metadata": {
        "id": "view-in-github",
        "colab_type": "text"
      },
      "source": [
        "<a href=\"https://colab.research.google.com/github/ellyisabirye/CV-in-making/blob/master/First_Python_Project.ipynb\" target=\"_parent\"><img src=\"https://colab.research.google.com/assets/colab-badge.svg\" alt=\"Open In Colab\"/></a>"
      ]
    },
    {
      "cell_type": "markdown",
      "source": [
        "##***My first Python Code***##"
      ],
      "metadata": {
        "id": "HFwfK-Gd4CmJ"
      }
    },
    {
      "cell_type": "markdown",
      "source": [
        "***Arithmetic***"
      ],
      "metadata": {
        "id": "dFFJxMfC3MnS"
      }
    },
    {
      "cell_type": "code",
      "execution_count": 176,
      "metadata": {
        "colab": {
          "base_uri": "https://localhost:8080/"
        },
        "id": "H5tdbe3g2pd1",
        "outputId": "56058065-dcdd-497e-fefe-155b5eca1a2a"
      },
      "outputs": [
        {
          "output_type": "execute_result",
          "data": {
            "text/plain": [
              "12"
            ]
          },
          "metadata": {},
          "execution_count": 176
        }
      ],
      "source": [
        "3+9"
      ]
    },
    {
      "cell_type": "code",
      "source": [
        "22/7"
      ],
      "metadata": {
        "colab": {
          "base_uri": "https://localhost:8080/"
        },
        "id": "7RNcdDmmUXu9",
        "outputId": "6b5695af-2786-4045-9b52-0a16aedc78c5"
      },
      "execution_count": 177,
      "outputs": [
        {
          "output_type": "execute_result",
          "data": {
            "text/plain": [
              "3.142857142857143"
            ]
          },
          "metadata": {},
          "execution_count": 177
        }
      ]
    },
    {
      "cell_type": "code",
      "source": [
        "22//7"
      ],
      "metadata": {
        "colab": {
          "base_uri": "https://localhost:8080/"
        },
        "id": "yuQAf8p3VDjy",
        "outputId": "044d5faf-8a5f-481b-9720-8ddf2c2b6381"
      },
      "execution_count": 178,
      "outputs": [
        {
          "output_type": "execute_result",
          "data": {
            "text/plain": [
              "3"
            ]
          },
          "metadata": {},
          "execution_count": 178
        }
      ]
    },
    {
      "cell_type": "code",
      "source": [
        "100%7"
      ],
      "metadata": {
        "colab": {
          "base_uri": "https://localhost:8080/"
        },
        "id": "fV9b34H3Uwm6",
        "outputId": "c3215c5b-4512-43b5-d603-5a8a47b6ce91"
      },
      "execution_count": 179,
      "outputs": [
        {
          "output_type": "execute_result",
          "data": {
            "text/plain": [
              "2"
            ]
          },
          "metadata": {},
          "execution_count": 179
        }
      ]
    },
    {
      "cell_type": "code",
      "source": [
        "5**3"
      ],
      "metadata": {
        "colab": {
          "base_uri": "https://localhost:8080/"
        },
        "id": "z8KtQnzdV3UL",
        "outputId": "7afeb6d3-49a2-4933-e7fb-4a9b6554355a"
      },
      "execution_count": 180,
      "outputs": [
        {
          "output_type": "execute_result",
          "data": {
            "text/plain": [
              "125"
            ]
          },
          "metadata": {},
          "execution_count": 180
        }
      ]
    },
    {
      "cell_type": "code",
      "source": [
        "5000-(2265+2150)"
      ],
      "metadata": {
        "colab": {
          "base_uri": "https://localhost:8080/"
        },
        "id": "1IwaKcrHYHIX",
        "outputId": "31aff788-8c5b-4c7b-f786-28400a533e04"
      },
      "execution_count": 181,
      "outputs": [
        {
          "output_type": "execute_result",
          "data": {
            "text/plain": [
              "585"
            ]
          },
          "metadata": {},
          "execution_count": 181
        }
      ]
    },
    {
      "cell_type": "code",
      "source": [
        "(0.2*1.25)*500"
      ],
      "metadata": {
        "colab": {
          "base_uri": "https://localhost:8080/"
        },
        "id": "xMOmDG5sbIEr",
        "outputId": "959713ce-30bd-4241-d0e7-0bcd3fddad3e"
      },
      "execution_count": 182,
      "outputs": [
        {
          "output_type": "execute_result",
          "data": {
            "text/plain": [
              "125.0"
            ]
          },
          "metadata": {},
          "execution_count": 182
        }
      ]
    },
    {
      "cell_type": "markdown",
      "source": [
        "Now we look at solving problems while creating **VARIABLES**"
      ],
      "metadata": {
        "id": "8omXv6zFbho_"
      }
    },
    {
      "cell_type": "code",
      "source": [
        "cost_per_bag = 1.25"
      ],
      "metadata": {
        "id": "YNXY211Mbu-v"
      },
      "execution_count": 183,
      "outputs": []
    },
    {
      "cell_type": "code",
      "source": [
        "proft_margin = 0.2"
      ],
      "metadata": {
        "id": "C-XpN1Ipb2Gu"
      },
      "execution_count": 184,
      "outputs": []
    },
    {
      "cell_type": "code",
      "source": [
        "number_of_bags = 500"
      ],
      "metadata": {
        "id": "lQPI5TtBb7R3"
      },
      "execution_count": 185,
      "outputs": []
    },
    {
      "cell_type": "code",
      "source": [
        "profit_per_bag = cost_per_bag*proft_margin"
      ],
      "metadata": {
        "id": "xHGOnfuccCVt"
      },
      "execution_count": 186,
      "outputs": []
    },
    {
      "cell_type": "code",
      "source": [
        "profit_per_bag"
      ],
      "metadata": {
        "colab": {
          "base_uri": "https://localhost:8080/"
        },
        "id": "X0djQuV6c8dV",
        "outputId": "4a4616cb-01fb-4d58-e72b-919e07e50757"
      },
      "execution_count": 187,
      "outputs": [
        {
          "output_type": "execute_result",
          "data": {
            "text/plain": [
              "0.25"
            ]
          },
          "metadata": {},
          "execution_count": 187
        }
      ]
    },
    {
      "cell_type": "code",
      "source": [
        "profit_500_bags = profit_per_bag*500"
      ],
      "metadata": {
        "id": "bY59REXjehrl"
      },
      "execution_count": 188,
      "outputs": []
    },
    {
      "cell_type": "code",
      "source": [
        "profit_500_bags"
      ],
      "metadata": {
        "colab": {
          "base_uri": "https://localhost:8080/"
        },
        "id": "ksLsSciyeotj",
        "outputId": "55460d96-64b1-4550-aa55-8f5343f155ef"
      },
      "execution_count": 189,
      "outputs": [
        {
          "output_type": "execute_result",
          "data": {
            "text/plain": [
              "125.0"
            ]
          },
          "metadata": {},
          "execution_count": 189
        }
      ]
    },
    {
      "cell_type": "code",
      "source": [
        "print(\"The grocery store makes USD\",profit_500_bags,\"from 500 bags\")"
      ],
      "metadata": {
        "colab": {
          "base_uri": "https://localhost:8080/"
        },
        "id": "ONWRW1R7l5AV",
        "outputId": "7d6deddf-0e07-4604-9df7-3d003e28bd5c"
      },
      "execution_count": 190,
      "outputs": [
        {
          "output_type": "stream",
          "name": "stdout",
          "text": [
            "The grocery store makes USD 125.0 from 500 bags\n"
          ]
        }
      ]
    },
    {
      "cell_type": "code",
      "source": [
        "# You can now write multiple lines of code within 1 code cell \n",
        "unit_price = 1.25\n",
        "profit_margin = 0.2\n",
        "number_of_units = 500\n",
        "\n",
        "# then the calculations\n",
        "\n",
        "unit_profit = unit_price*profit_margin\n",
        "total_profit = unit_profit*number_of_units\n",
        "\n",
        "# Display the result\n",
        "print(\"The grocery store makes USD\",int(total_profit),\"from 500 bags\")"
      ],
      "metadata": {
        "colab": {
          "base_uri": "https://localhost:8080/"
        },
        "id": "0OkbCUKcmLMC",
        "outputId": "5842bf5d-39aa-4c62-f26b-37e4d0fa55ba"
      },
      "execution_count": 191,
      "outputs": [
        {
          "output_type": "stream",
          "name": "stdout",
          "text": [
            "The grocery store makes USD 125 from 500 bags\n"
          ]
        }
      ]
    },
    {
      "cell_type": "markdown",
      "source": [
        "Conditional Operators"
      ],
      "metadata": {
        "id": "GOwmQjcAoosj"
      }
    },
    {
      "cell_type": "code",
      "source": [
        "# Here we can use oepartors like = < > != >= <= and these will return TRUE or FALSE\n",
        "\n",
        "my_first_job = \"Teaching Assistant\"\n",
        "my_second_job = \"Business Analyst\"\n",
        "my_current_job =\"Viewing Analyst\"\n",
        "my_next_job = \"BI Analyst\"\n",
        "print(my_first_job)"
      ],
      "metadata": {
        "id": "01jfgcKQoyWC",
        "colab": {
          "base_uri": "https://localhost:8080/"
        },
        "outputId": "0d2c0714-1371-4d19-9bcf-d381a3daaee6"
      },
      "execution_count": 192,
      "outputs": [
        {
          "output_type": "stream",
          "name": "stdout",
          "text": [
            "Teaching Assistant\n"
          ]
        }
      ]
    },
    {
      "cell_type": "code",
      "source": [
        "#The equality Check\n",
        "my_first_job == \"Teaching Assistant\""
      ],
      "metadata": {
        "colab": {
          "base_uri": "https://localhost:8080/"
        },
        "id": "MPWs_Ufotev1",
        "outputId": "ea6f8c06-2336-4459-8e33-e8c42cd2a6c0"
      },
      "execution_count": 193,
      "outputs": [
        {
          "output_type": "execute_result",
          "data": {
            "text/plain": [
              "True"
            ]
          },
          "metadata": {},
          "execution_count": 193
        }
      ]
    },
    {
      "cell_type": "code",
      "source": [
        "what = my_first_job != \"Teaching Assistant\""
      ],
      "metadata": {
        "id": "TRfg6021tzfj"
      },
      "execution_count": 194,
      "outputs": []
    },
    {
      "cell_type": "code",
      "source": [
        "type(what)"
      ],
      "metadata": {
        "colab": {
          "base_uri": "https://localhost:8080/"
        },
        "id": "_5AAzxmyktRA",
        "outputId": "be89b70d-7a28-4129-8be2-4cc44a64e2a9"
      },
      "execution_count": 195,
      "outputs": [
        {
          "output_type": "execute_result",
          "data": {
            "text/plain": [
              "bool"
            ]
          },
          "metadata": {},
          "execution_count": 195
        }
      ]
    },
    {
      "cell_type": "code",
      "source": [
        "is_my_new_job = my_next_job == \"BI Analyst\"\n",
        "print(\"is my new job BI Analyst,\", is_my_new_job)"
      ],
      "metadata": {
        "colab": {
          "base_uri": "https://localhost:8080/"
        },
        "id": "rfu9ral_ueDq",
        "outputId": "ff0bd15d-8fbf-485e-ba40-35fc67bd4e21"
      },
      "execution_count": 196,
      "outputs": [
        {
          "output_type": "stream",
          "name": "stdout",
          "text": [
            "is my new job BI Analyst, True\n"
          ]
        }
      ]
    },
    {
      "cell_type": "code",
      "source": [
        "# More examples\n",
        "\n",
        "a = 20\n",
        "b = 25\n",
        "c = 30\n",
        "is_a_greater_or_equal_to_b = a>=b\n",
        "print(\"is a greater or equal to b, \",is_a_greater_or_equal_to_b)"
      ],
      "metadata": {
        "colab": {
          "base_uri": "https://localhost:8080/"
        },
        "id": "KnXTwtbfvx40",
        "outputId": "53303d9a-1733-4bd9-e53f-440b990faa16"
      },
      "execution_count": 197,
      "outputs": [
        {
          "output_type": "stream",
          "name": "stdout",
          "text": [
            "is a greater or equal to b,  False\n"
          ]
        }
      ]
    },
    {
      "cell_type": "code",
      "source": [
        "\n",
        "# Combining conditional operators using AND, OR NOT, the Logical operators\n",
        "\n",
        "a==b or b<c"
      ],
      "metadata": {
        "colab": {
          "base_uri": "https://localhost:8080/"
        },
        "id": "worJmAMYw1Ay",
        "outputId": "b0b203a9-a10e-447a-abcd-eccc063791c9"
      },
      "execution_count": 198,
      "outputs": [
        {
          "output_type": "execute_result",
          "data": {
            "text/plain": [
              "True"
            ]
          },
          "metadata": {},
          "execution_count": 198
        }
      ]
    },
    {
      "cell_type": "code",
      "source": [
        "not a==b"
      ],
      "metadata": {
        "colab": {
          "base_uri": "https://localhost:8080/"
        },
        "id": "pzeUQ1XQ9Q5t",
        "outputId": "d3f0601f-a5bd-41ca-bc7b-a6c212f20163"
      },
      "execution_count": 199,
      "outputs": [
        {
          "output_type": "execute_result",
          "data": {
            "text/plain": [
              "True"
            ]
          },
          "metadata": {},
          "execution_count": 199
        }
      ]
    },
    {
      "cell_type": "markdown",
      "source": [
        "# In Phython(While using Jupiter) one can use the Markdown format in order to be more organised for example;\n",
        "* using # will help in making headers or simply increasing size of the text\n",
        "* the '* ball' will help you make dotted lists, or you can use '1. ball'\n",
        "* https://www.google.com/ will help you add a link\n"
      ],
      "metadata": {
        "id": "uZDSPbIt-CNV"
      }
    },
    {
      "cell_type": "markdown",
      "source": [
        "## Also one can use code blocks in Markdown"
      ],
      "metadata": {
        "id": "NtfDyQ3kAnTB"
      }
    },
    {
      "cell_type": "markdown",
      "source": [
        " # **Variables and Data Types in Python**"
      ],
      "metadata": {
        "id": "ngO2iH_MMqeS"
      }
    },
    {
      "cell_type": "markdown",
      "source": [
        "### Variables are used to store data/information which could be of different types. The data stored within a variable is called a value. \n",
        "* You can easily assign value to a variable by simply; my_fav_car = \"volvo\"\n",
        "* The variable types may include: int, float, bool, str\n"
      ],
      "metadata": {
        "id": "FdtLNoSCNgKh"
      }
    },
    {
      "cell_type": "code",
      "source": [
        "my_fav_color = \"blue\"\n",
        "my_fav_car = \"volvo\"\n",
        "print(\"my favorite car is a\", my_fav_color , my_fav_car)"
      ],
      "metadata": {
        "colab": {
          "base_uri": "https://localhost:8080/"
        },
        "id": "ndpTtTUhM8Lj",
        "outputId": "9879a40d-bd7a-4367-c23b-053b7b8f1f54"
      },
      "execution_count": 200,
      "outputs": [
        {
          "output_type": "stream",
          "name": "stdout",
          "text": [
            "my favorite car is a blue volvo\n"
          ]
        }
      ]
    },
    {
      "cell_type": "code",
      "source": [
        "#One can also assign multiple values to multiple variables in a single line of code\n",
        "color1, color2, color3 =\"red\",\"blue\",\"white\"\n",
        "print(color2)"
      ],
      "metadata": {
        "colab": {
          "base_uri": "https://localhost:8080/"
        },
        "id": "q489tBbKdFA5",
        "outputId": "9f43ac11-044e-42e4-b604-e1b3b28eaada"
      },
      "execution_count": 201,
      "outputs": [
        {
          "output_type": "stream",
          "name": "stdout",
          "text": [
            "blue\n"
          ]
        }
      ]
    },
    {
      "cell_type": "code",
      "source": [
        "#you can also assign one value to multple variables through a chain\n",
        "color4=color5=color6 = \"black\"\n",
        "print(color6)"
      ],
      "metadata": {
        "colab": {
          "base_uri": "https://localhost:8080/"
        },
        "id": "th9qlrzBdcGT",
        "outputId": "0b0b6de0-fb14-4458-d03f-5046e3d1bda5"
      },
      "execution_count": 202,
      "outputs": [
        {
          "output_type": "stream",
          "name": "stdout",
          "text": [
            "black\n"
          ]
        }
      ]
    },
    {
      "cell_type": "code",
      "source": [
        "#More variables\n",
        "is_today_Saturday = False\n",
        "the_3_musketeers = [\"Athos\", \"Porthos\", \"Aramis\"] #this is a list"
      ],
      "metadata": {
        "id": "m9OgNIk-gCER"
      },
      "execution_count": 203,
      "outputs": []
    },
    {
      "cell_type": "code",
      "source": [
        "# you can check the type of the varible using the type function\n",
        "\n",
        "y=type(color1)\n",
        "y"
      ],
      "metadata": {
        "colab": {
          "base_uri": "https://localhost:8080/"
        },
        "id": "JQ5CEzQ_e4Y4",
        "outputId": "20d41be4-a5c1-4c60-c301-9731ce5e181f"
      },
      "execution_count": 204,
      "outputs": [
        {
          "output_type": "execute_result",
          "data": {
            "text/plain": [
              "str"
            ]
          },
          "metadata": {},
          "execution_count": 204
        }
      ]
    },
    {
      "cell_type": "code",
      "source": [
        "type(the_3_musketeers)"
      ],
      "metadata": {
        "colab": {
          "base_uri": "https://localhost:8080/"
        },
        "id": "rGpfnQDXgQzZ",
        "outputId": "2d7d57e2-bdf1-419c-b2e2-f3d3f344653f"
      },
      "execution_count": 205,
      "outputs": [
        {
          "output_type": "execute_result",
          "data": {
            "text/plain": [
              "list"
            ]
          },
          "metadata": {},
          "execution_count": 205
        }
      ]
    },
    {
      "cell_type": "markdown",
      "source": [
        "### Also with variable type float, one can convert this to int through a process known as casting"
      ],
      "metadata": {
        "id": "vuE5VCw5h2Tt"
      }
    },
    {
      "cell_type": "code",
      "source": [
        "pi = 22/7 # pi = 3.14...... and is a float\n",
        "int(pi) #then casting with int changes the variable type to an integer"
      ],
      "metadata": {
        "colab": {
          "base_uri": "https://localhost:8080/"
        },
        "id": "mjV6HHE-iEft",
        "outputId": "01aebe54-e55d-4bd5-8fce-a84516a66fcc"
      },
      "execution_count": 206,
      "outputs": [
        {
          "output_type": "execute_result",
          "data": {
            "text/plain": [
              "3"
            ]
          },
          "metadata": {},
          "execution_count": 206
        }
      ]
    },
    {
      "cell_type": "code",
      "source": [
        "float(a) #a=20 is an int but casting with float(a) will make it a float"
      ],
      "metadata": {
        "colab": {
          "base_uri": "https://localhost:8080/"
        },
        "id": "pYoiVSRVigbl",
        "outputId": "99a415a8-23e0-4ec2-d971-678022fa87f7"
      },
      "execution_count": 207,
      "outputs": [
        {
          "output_type": "execute_result",
          "data": {
            "text/plain": [
              "20.0"
            ]
          },
          "metadata": {},
          "execution_count": 207
        }
      ]
    },
    {
      "cell_type": "code",
      "source": [
        "# One should know that any value can be converted to a Boolean using the bool function. But only falsy values like False, 0, 0.0, None(empty value), empty text will convert to False.\n",
        "# A value that evaluates to True is often called a truthy value\n",
        "#Booleans automatically convert to int when used in arithmetic operations. True is converted to 1 and Falso to 0.\n",
        "add_false = 5 + False\n",
        "add_true = 5 + True\n",
        "print(add_false,\",\",add_true)"
      ],
      "metadata": {
        "colab": {
          "base_uri": "https://localhost:8080/"
        },
        "id": "v-PcPQfBonbn",
        "outputId": "ecfa213c-c60c-4006-e75c-8da2fee8bf49"
      },
      "execution_count": 208,
      "outputs": [
        {
          "output_type": "stream",
          "name": "stdout",
          "text": [
            "5 , 6\n"
          ]
        }
      ]
    },
    {
      "cell_type": "markdown",
      "source": [
        "### **String variables** \n",
        "A string represents text in Python. Strings must be surrounded using quotations, either double \" \" or single quotes ' '. Strings have the type *str*"
      ],
      "metadata": {
        "id": "0NuRsfCFqrVa"
      }
    },
    {
      "cell_type": "code",
      "source": [
        "today = 'Saturday'\n",
        "type(today)"
      ],
      "metadata": {
        "colab": {
          "base_uri": "https://localhost:8080/"
        },
        "id": "rRmEd0n_rln4",
        "outputId": "a6a5f033-4cc4-426b-e49a-9f6d79d41e5e"
      },
      "execution_count": 209,
      "outputs": [
        {
          "output_type": "execute_result",
          "data": {
            "text/plain": [
              "str"
            ]
          },
          "metadata": {},
          "execution_count": 209
        }
      ]
    },
    {
      "cell_type": "code",
      "source": [
        "#If you have a single qote inside a string then sorround with double quotes and vice versa eg. \n",
        "Triangle3 = \"Elly's triangle\"\n",
        "what_he_said = 'These were his words, \"do not bring here here\" '\n",
        "# Three quotes at start and end will help write strings that span multiple lines e.g \n",
        "print(\"\"\" here we go\n",
        "          again tomorrow\n",
        "in Ohio\"\"\")"
      ],
      "metadata": {
        "colab": {
          "base_uri": "https://localhost:8080/"
        },
        "id": "4O-eElGksbc6",
        "outputId": "60462a65-9a67-4bb4-8a31-4f410e41a60d"
      },
      "execution_count": 210,
      "outputs": [
        {
          "output_type": "stream",
          "name": "stdout",
          "text": [
            " here we go\n",
            "          again tomorrow\n",
            "in Ohio\n"
          ]
        }
      ]
    },
    {
      "cell_type": "markdown",
      "source": [
        "The ***len*** function with help you establish the length of a value or variable. \n",
        "Note that a space in string is also counted as a character and contributes to its lenght"
      ],
      "metadata": {
        "id": "awF396HmuZHv"
      }
    },
    {
      "cell_type": "code",
      "source": [
        "len(Triangle3)"
      ],
      "metadata": {
        "colab": {
          "base_uri": "https://localhost:8080/"
        },
        "id": "fGW_9IY5u31q",
        "outputId": "556eb679-0be6-4751-b90f-ca7e411e9563"
      },
      "execution_count": 211,
      "outputs": [
        {
          "output_type": "execute_result",
          "data": {
            "text/plain": [
              "15"
            ]
          },
          "metadata": {},
          "execution_count": 211
        }
      ]
    },
    {
      "cell_type": "markdown",
      "source": [
        "You can also convert a string to a list by using the ***list*** function."
      ],
      "metadata": {
        "id": "T7VnZNBxvbBm"
      }
    },
    {
      "cell_type": "code",
      "source": [
        "list(Triangle3)"
      ],
      "metadata": {
        "colab": {
          "base_uri": "https://localhost:8080/"
        },
        "id": "AAnm6AwRvnIO",
        "outputId": "c7caedeb-c07d-42e8-aad2-a265c5d29fa6"
      },
      "execution_count": 212,
      "outputs": [
        {
          "output_type": "execute_result",
          "data": {
            "text/plain": [
              "['E', 'l', 'l', 'y', \"'\", 's', ' ', 't', 'r', 'i', 'a', 'n', 'g', 'l', 'e']"
            ]
          },
          "metadata": {},
          "execution_count": 212
        }
      ]
    },
    {
      "cell_type": "markdown",
      "source": [
        "You can access a particular character in a string by providing its position say Triangle3[2] gives us the 2nd character in that string variable. Also, one can be able to access part of the string by providing a range e.g Triangle3[3:5]"
      ],
      "metadata": {
        "id": "I9k7mEFTwE8T"
      }
    },
    {
      "cell_type": "code",
      "source": [
        "Triangle3[3]"
      ],
      "metadata": {
        "colab": {
          "base_uri": "https://localhost:8080/",
          "height": 35
        },
        "id": "4S5hekkYwmoP",
        "outputId": "cc8c9e90-6c54-4124-9016-9c453fb67e35"
      },
      "execution_count": 213,
      "outputs": [
        {
          "output_type": "execute_result",
          "data": {
            "text/plain": [
              "'y'"
            ],
            "application/vnd.google.colaboratory.intrinsic+json": {
              "type": "string"
            }
          },
          "metadata": {},
          "execution_count": 213
        }
      ]
    },
    {
      "cell_type": "code",
      "source": [
        "Triangle3[3:7]"
      ],
      "metadata": {
        "colab": {
          "base_uri": "https://localhost:8080/",
          "height": 35
        },
        "id": "PjMlnGR-wrGd",
        "outputId": "5e35dfa3-508c-4f58-9e93-e946a583e5f9"
      },
      "execution_count": 214,
      "outputs": [
        {
          "output_type": "execute_result",
          "data": {
            "text/plain": [
              "\"y's \""
            ],
            "application/vnd.google.colaboratory.intrinsic+json": {
              "type": "string"
            }
          },
          "metadata": {},
          "execution_count": 214
        }
      ]
    },
    {
      "cell_type": "markdown",
      "source": [
        "You can also check if a string contains a certain character or set of characters using ***in***"
      ],
      "metadata": {
        "id": "sS17VBB5xoM2"
      }
    },
    {
      "cell_type": "code",
      "source": [
        "'Elly' in Triangle3"
      ],
      "metadata": {
        "colab": {
          "base_uri": "https://localhost:8080/"
        },
        "id": "X7duMYFex-4m",
        "outputId": "0405f4da-f62d-4612-8fe7-00b43e880763"
      },
      "execution_count": 215,
      "outputs": [
        {
          "output_type": "execute_result",
          "data": {
            "text/plain": [
              "True"
            ]
          },
          "metadata": {},
          "execution_count": 215
        }
      ]
    },
    {
      "cell_type": "code",
      "source": [
        "'Peter' in Triangle3"
      ],
      "metadata": {
        "colab": {
          "base_uri": "https://localhost:8080/"
        },
        "id": "HgTRo0ZYyG8u",
        "outputId": "76b1724b-0077-4a04-a713-8d45499379cc"
      },
      "execution_count": 216,
      "outputs": [
        {
          "output_type": "execute_result",
          "data": {
            "text/plain": [
              "False"
            ]
          },
          "metadata": {},
          "execution_count": 216
        }
      ]
    },
    {
      "cell_type": "markdown",
      "source": [
        "***concatenate*** will help you join two or more strings together using \"**+**\""
      ],
      "metadata": {
        "id": "bLoa7dM2VVWA"
      }
    },
    {
      "cell_type": "code",
      "source": [
        "last_name = 'Isabirye'\n",
        "first_name = 'Elly'\n",
        "Full_name = (first_name + \" \" + last_name)\n",
        "Full_name = str(Full_name)"
      ],
      "metadata": {
        "id": "U4lfKt6KV2sv"
      },
      "execution_count": 217,
      "outputs": []
    },
    {
      "cell_type": "markdown",
      "source": [
        "***Methods*** in Python are functions associated with data types, and one accesses them using the **.** notation for example ***variable_name.method()***. \n",
        "When working with Strings, some methods that are commonly used are .lower(), .upper(), .capitalize()., .replace(), .split()"
      ],
      "metadata": {
        "id": "PAX2Ul6VXLjv"
      }
    },
    {
      "cell_type": "code",
      "source": [
        "type(Full_name)"
      ],
      "metadata": {
        "colab": {
          "base_uri": "https://localhost:8080/"
        },
        "id": "PfgwPYaeYIuB",
        "outputId": "53b8f600-15fe-4fdd-8a8c-4057e1bef4fd"
      },
      "execution_count": 218,
      "outputs": [
        {
          "output_type": "execute_result",
          "data": {
            "text/plain": [
              "str"
            ]
          },
          "metadata": {},
          "execution_count": 218
        }
      ]
    },
    {
      "cell_type": "code",
      "source": [
        "last_name.lower()"
      ],
      "metadata": {
        "colab": {
          "base_uri": "https://localhost:8080/",
          "height": 35
        },
        "id": "N2ZHN3crY7GB",
        "outputId": "a9b62346-bd6d-4101-ce85-5e98ad09c031"
      },
      "execution_count": 219,
      "outputs": [
        {
          "output_type": "execute_result",
          "data": {
            "text/plain": [
              "'isabirye'"
            ],
            "application/vnd.google.colaboratory.intrinsic+json": {
              "type": "string"
            }
          },
          "metadata": {},
          "execution_count": 219
        }
      ]
    },
    {
      "cell_type": "code",
      "source": [
        "Full_name.lower()"
      ],
      "metadata": {
        "colab": {
          "base_uri": "https://localhost:8080/",
          "height": 35
        },
        "id": "L5lih8UqZPDY",
        "outputId": "08b70d8e-61b2-4ad9-fb3c-2f3dfdfaf5f6"
      },
      "execution_count": 220,
      "outputs": [
        {
          "output_type": "execute_result",
          "data": {
            "text/plain": [
              "'elly isabirye'"
            ],
            "application/vnd.google.colaboratory.intrinsic+json": {
              "type": "string"
            }
          },
          "metadata": {},
          "execution_count": 220
        }
      ]
    },
    {
      "cell_type": "code",
      "source": [
        "poem =\"this is the way that we were made\"\n",
        "poem.capitalize()"
      ],
      "metadata": {
        "colab": {
          "base_uri": "https://localhost:8080/",
          "height": 35
        },
        "id": "xYMN4qFLZn6p",
        "outputId": "f6d78ce2-fcb0-4245-9301-d7a85fe66466"
      },
      "execution_count": 221,
      "outputs": [
        {
          "output_type": "execute_result",
          "data": {
            "text/plain": [
              "'This is the way that we were made'"
            ],
            "application/vnd.google.colaboratory.intrinsic+json": {
              "type": "string"
            }
          },
          "metadata": {},
          "execution_count": 221
        }
      ]
    },
    {
      "cell_type": "code",
      "source": [
        "'the seven days in the wilderness'.capitalize()"
      ],
      "metadata": {
        "colab": {
          "base_uri": "https://localhost:8080/",
          "height": 35
        },
        "id": "ddrDos1tZ_kJ",
        "outputId": "7cbf8164-e2c4-4f39-b462-99d73b3fbe08"
      },
      "execution_count": 222,
      "outputs": [
        {
          "output_type": "execute_result",
          "data": {
            "text/plain": [
              "'The seven days in the wilderness'"
            ],
            "application/vnd.google.colaboratory.intrinsic+json": {
              "type": "string"
            }
          },
          "metadata": {},
          "execution_count": 222
        }
      ]
    },
    {
      "cell_type": "code",
      "source": [
        "# .replace(). So today = Saturday but the .replace() method will replace \"Satur\" with \"Wednes\"\n",
        "another_day = today.replace(\"Satur\",\"Wednes\")\n",
        "another_day"
      ],
      "metadata": {
        "colab": {
          "base_uri": "https://localhost:8080/",
          "height": 35
        },
        "id": "eu9GITuNv1_r",
        "outputId": "1b9251b7-47e1-4d3d-83b0-964aec0d0acc"
      },
      "execution_count": 223,
      "outputs": [
        {
          "output_type": "execute_result",
          "data": {
            "text/plain": [
              "'Wednesday'"
            ],
            "application/vnd.google.colaboratory.intrinsic+json": {
              "type": "string"
            }
          },
          "metadata": {},
          "execution_count": 223
        }
      ]
    },
    {
      "cell_type": "code",
      "source": [
        "# to split a string into a list of strings based on a specified character then one uses the .split() method\n",
        "\"Sun,Mon,Tue,Wed\".split(\",\")"
      ],
      "metadata": {
        "colab": {
          "base_uri": "https://localhost:8080/"
        },
        "id": "QjxndUXGbapZ",
        "outputId": "5866954c-34bc-4f01-eda8-edd3eb5d063a"
      },
      "execution_count": 224,
      "outputs": [
        {
          "output_type": "execute_result",
          "data": {
            "text/plain": [
              "['Sun', 'Mon', 'Tue', 'Wed']"
            ]
          },
          "metadata": {},
          "execution_count": 224
        }
      ]
    },
    {
      "cell_type": "code",
      "source": [
        "# The .strip() method works just like trim in excel to remove whitespace characters from the beginning and end of a string\n",
        "Rating = \"   Isaac's rating was one of the best we had seen in years \"\n",
        "Rating = Rating.strip()\n",
        "print(Rating)"
      ],
      "metadata": {
        "colab": {
          "base_uri": "https://localhost:8080/"
        },
        "id": "z9cLyBKZcAUb",
        "outputId": "67309f96-6ce3-4787-e5d9-f8acbf18ca4e"
      },
      "execution_count": 225,
      "outputs": [
        {
          "output_type": "stream",
          "name": "stdout",
          "text": [
            "Isaac's rating was one of the best we had seen in years\n"
          ]
        }
      ]
    },
    {
      "cell_type": "code",
      "source": [
        "# Another one is the .format() method which is used to combine values of other data types e,g integers, floats, booleans, lists etc. with strings.\n",
        "unit_price = 1.25\n",
        "profit_margin = 0.2\n",
        "number_of_bags = 500\n",
        "#Template for out put message\n",
        "output_template = \"\"\"If a grocery store sells icebags at $ {} per bag, with a profit margin of {} % then the total profit it makes selling {} icebags is $ {}.\"\"\"\n",
        "print(output_template)"
      ],
      "metadata": {
        "colab": {
          "base_uri": "https://localhost:8080/"
        },
        "id": "dCdFne-4xEt1",
        "outputId": "e8d59a82-6d0c-44db-dc12-6c3421612fac"
      },
      "execution_count": 226,
      "outputs": [
        {
          "output_type": "stream",
          "name": "stdout",
          "text": [
            "If a grocery store sells icebags at $ {} per bag, with a profit margin of {} % then the total profit it makes selling {} icebags is $ {}.\n"
          ]
        }
      ]
    },
    {
      "cell_type": "code",
      "source": [
        "#Inserting values into the string\n",
        "total_profit = unit_price * profit_margin * number_of_bags\n",
        "output_message = output_template.format(unit_price,profit_margin*100,number_of_bags,total_profit)\n",
        "print(output_message)"
      ],
      "metadata": {
        "colab": {
          "base_uri": "https://localhost:8080/"
        },
        "id": "KxkwhICSymAS",
        "outputId": "b4b64485-7697-4fc0-c264-96e9fb3350d7"
      },
      "execution_count": 227,
      "outputs": [
        {
          "output_type": "stream",
          "name": "stdout",
          "text": [
            "If a grocery store sells icebags at $ 1.25 per bag, with a profit margin of 20.0 % then the total profit it makes selling 500 icebags is $ 125.0.\n"
          ]
        }
      ]
    },
    {
      "cell_type": "markdown",
      "source": [
        "# List\n",
        "A ***List*** in Python is an ordered collection of values. Lists can hold values of different data types, support operations to add, remove and change values. Lists have the type ***list***"
      ],
      "metadata": {
        "id": "YeADHnCs0yxD"
      }
    },
    {
      "cell_type": "code",
      "source": [
        "fruits = ['apple','banana','cherry']\n",
        "type(fruits)"
      ],
      "metadata": {
        "colab": {
          "base_uri": "https://localhost:8080/"
        },
        "id": "ULKK1KcQ1dIw",
        "outputId": "94a2f03c-9e22-4092-b88c-104745f4f891"
      },
      "execution_count": 246,
      "outputs": [
        {
          "output_type": "execute_result",
          "data": {
            "text/plain": [
              "list"
            ]
          },
          "metadata": {},
          "execution_count": 246
        }
      ]
    },
    {
      "cell_type": "code",
      "source": [
        "#We can also create a list containing values of different data types, including another list"
      ],
      "metadata": {
        "id": "87crXXsv1xlk"
      },
      "execution_count": 229,
      "outputs": []
    },
    {
      "cell_type": "code",
      "source": [
        "a_list =[23,'hello',None,3.14,fruits,3<=5]\n",
        "a_list"
      ],
      "metadata": {
        "colab": {
          "base_uri": "https://localhost:8080/"
        },
        "id": "K2nuTktM17n5",
        "outputId": "26e7877b-f0dd-48bc-ef6a-fc95b918b83b"
      },
      "execution_count": 247,
      "outputs": [
        {
          "output_type": "execute_result",
          "data": {
            "text/plain": [
              "[23, 'hello', None, 3.14, ['apple', 'banana', 'cherry'], True]"
            ]
          },
          "metadata": {},
          "execution_count": 247
        }
      ]
    },
    {
      "cell_type": "code",
      "source": [
        "# A list can alos be empty e.g\n",
        "empty_list = []"
      ],
      "metadata": {
        "id": "yX8e8iBk2hgQ"
      },
      "execution_count": 248,
      "outputs": []
    },
    {
      "cell_type": "code",
      "source": [
        "#The len function will help you determine the number of values in a list\n",
        "len(a_list)"
      ],
      "metadata": {
        "colab": {
          "base_uri": "https://localhost:8080/"
        },
        "id": "duwW_LJ22q6J",
        "outputId": "0f18a294-9a84-4774-96dd-43d55c484a49"
      },
      "execution_count": 249,
      "outputs": [
        {
          "output_type": "execute_result",
          "data": {
            "text/plain": [
              "6"
            ]
          },
          "metadata": {},
          "execution_count": 249
        }
      ]
    },
    {
      "cell_type": "code",
      "source": [
        "# One can also acces the elements in a list using the index of the element, starting from index 0\n",
        "fruits[0]"
      ],
      "metadata": {
        "colab": {
          "base_uri": "https://localhost:8080/",
          "height": 35
        },
        "id": "zLv8XmV43I9T",
        "outputId": "1ddcbb5d-504a-4968-a74f-7abba0b3c6c8"
      },
      "execution_count": 250,
      "outputs": [
        {
          "output_type": "execute_result",
          "data": {
            "text/plain": [
              "'apple'"
            ],
            "application/vnd.google.colaboratory.intrinsic+json": {
              "type": "string"
            }
          },
          "metadata": {},
          "execution_count": 250
        }
      ]
    },
    {
      "cell_type": "code",
      "source": [
        "fruits[2]"
      ],
      "metadata": {
        "colab": {
          "base_uri": "https://localhost:8080/",
          "height": 35
        },
        "id": "BgRX9VE93Zto",
        "outputId": "4f9ff5f5-d73a-4b45-c6c7-67567c07b632"
      },
      "execution_count": 251,
      "outputs": [
        {
          "output_type": "execute_result",
          "data": {
            "text/plain": [
              "'cherry'"
            ],
            "application/vnd.google.colaboratory.intrinsic+json": {
              "type": "string"
            }
          },
          "metadata": {},
          "execution_count": 251
        }
      ]
    },
    {
      "cell_type": "code",
      "source": [
        "a_list[1]"
      ],
      "metadata": {
        "colab": {
          "base_uri": "https://localhost:8080/",
          "height": 35
        },
        "id": "j8WBsrtc5ioL",
        "outputId": "3cbe8bef-c790-4e17-8d02-86b1ba674226"
      },
      "execution_count": 252,
      "outputs": [
        {
          "output_type": "execute_result",
          "data": {
            "text/plain": [
              "'hello'"
            ],
            "application/vnd.google.colaboratory.intrinsic+json": {
              "type": "string"
            }
          },
          "metadata": {},
          "execution_count": 252
        }
      ]
    },
    {
      "cell_type": "code",
      "source": [
        "a_list[2:5]"
      ],
      "metadata": {
        "colab": {
          "base_uri": "https://localhost:8080/"
        },
        "id": "fqxdTWtq3g6h",
        "outputId": "3257a838-5663-4e76-a379-c2534765cf64"
      },
      "execution_count": 253,
      "outputs": [
        {
          "output_type": "execute_result",
          "data": {
            "text/plain": [
              "[None, 3.14, ['apple', 'banana', 'cherry']]"
            ]
          },
          "metadata": {},
          "execution_count": 253
        }
      ]
    },
    {
      "cell_type": "code",
      "source": [
        "a_list[2:]"
      ],
      "metadata": {
        "colab": {
          "base_uri": "https://localhost:8080/"
        },
        "id": "TEueJCDb5Zhh",
        "outputId": "7c477501-e71f-4505-de87-cd44125c7e82"
      },
      "execution_count": 254,
      "outputs": [
        {
          "output_type": "execute_result",
          "data": {
            "text/plain": [
              "[None, 3.14, ['apple', 'banana', 'cherry'], True]"
            ]
          },
          "metadata": {},
          "execution_count": 254
        }
      ]
    },
    {
      "cell_type": "code",
      "source": [
        "a_list[:4]"
      ],
      "metadata": {
        "colab": {
          "base_uri": "https://localhost:8080/"
        },
        "id": "sGfR8Ita5ysi",
        "outputId": "350e9646-1781-4b89-848e-0efe2e425227"
      },
      "execution_count": 255,
      "outputs": [
        {
          "output_type": "execute_result",
          "data": {
            "text/plain": [
              "[23, 'hello', None, 3.14]"
            ]
          },
          "metadata": {},
          "execution_count": 255
        }
      ]
    },
    {
      "cell_type": "markdown",
      "source": [
        "Lists can also be modified in case you want to assign a new element to replace an old one in the list. fruits[1] ='blueberry' will replace 'banana' in the list"
      ],
      "metadata": {
        "id": "N19GvyG36CWw"
      }
    },
    {
      "cell_type": "code",
      "source": [
        "fruits[1] ='blueberry'\n",
        "fruits"
      ],
      "metadata": {
        "colab": {
          "base_uri": "https://localhost:8080/"
        },
        "id": "G8RzUW0S6qE5",
        "outputId": "4f4ff7f4-816d-4eba-f40b-5b8ffa010c35"
      },
      "execution_count": 256,
      "outputs": [
        {
          "output_type": "execute_result",
          "data": {
            "text/plain": [
              "['apple', 'blueberry', 'cherry']"
            ]
          },
          "metadata": {},
          "execution_count": 256
        }
      ]
    },
    {
      "cell_type": "markdown",
      "source": [
        "the ***.append()*** will help you add a new value to the end of a list"
      ],
      "metadata": {
        "id": "p_8pu-ah7L1V"
      }
    },
    {
      "cell_type": "code",
      "source": [
        "fruits.append('mango')\n",
        "fruits"
      ],
      "metadata": {
        "colab": {
          "base_uri": "https://localhost:8080/"
        },
        "id": "iXvl5Igh7c2d",
        "outputId": "e73da18e-f536-4724-a6d1-aac32f55a0f9"
      },
      "execution_count": 257,
      "outputs": [
        {
          "output_type": "execute_result",
          "data": {
            "text/plain": [
              "['apple', 'blueberry', 'cherry', 'mango']"
            ]
          },
          "metadata": {},
          "execution_count": 257
        }
      ]
    },
    {
      "cell_type": "markdown",
      "source": [
        "You can also insert an element usin the ***.insert()*** method for example fruits.insert(1,'banana') will insert banana to be in index 1 in the fruits list"
      ],
      "metadata": {
        "id": "fPLxXFNfW1Mu"
      }
    },
    {
      "cell_type": "code",
      "source": [
        "fruits.insert(1,'banana')\n",
        "fruits"
      ],
      "metadata": {
        "colab": {
          "base_uri": "https://localhost:8080/"
        },
        "id": "6yGuclV5XhQT",
        "outputId": "246cbde5-d6b5-46eb-d909-6731f76a22b2"
      },
      "execution_count": 258,
      "outputs": [
        {
          "output_type": "execute_result",
          "data": {
            "text/plain": [
              "['apple', 'banana', 'blueberry', 'cherry', 'mango']"
            ]
          },
          "metadata": {},
          "execution_count": 258
        }
      ]
    },
    {
      "cell_type": "code",
      "source": [
        "type(fruits)"
      ],
      "metadata": {
        "colab": {
          "base_uri": "https://localhost:8080/"
        },
        "id": "eD4tTeBjX6PG",
        "outputId": "fed02f9e-8f79-402b-afdc-45231e87b1ca"
      },
      "execution_count": 259,
      "outputs": [
        {
          "output_type": "execute_result",
          "data": {
            "text/plain": [
              "list"
            ]
          },
          "metadata": {},
          "execution_count": 259
        }
      ]
    },
    {
      "cell_type": "markdown",
      "source": [
        "Use ***.remove()*** to remove a value from a list"
      ],
      "metadata": {
        "id": "ds9N4gipZydZ"
      }
    },
    {
      "cell_type": "code",
      "source": [
        "fruits.remove('cherry')"
      ],
      "metadata": {
        "id": "cd28AtmgZ5tV"
      },
      "execution_count": 261,
      "outputs": []
    },
    {
      "cell_type": "code",
      "source": [
        "fruits"
      ],
      "metadata": {
        "colab": {
          "base_uri": "https://localhost:8080/"
        },
        "id": "rgr8fBpDaLN9",
        "outputId": "6ec26f20-531b-48e5-b169-26e3aec0ca42"
      },
      "execution_count": 262,
      "outputs": [
        {
          "output_type": "execute_result",
          "data": {
            "text/plain": [
              "['apple', 'banana', 'blueberry', 'mango']"
            ]
          },
          "metadata": {},
          "execution_count": 262
        }
      ]
    },
    {
      "cell_type": "markdown",
      "source": [
        "But to remove a value from a particular index then use ***.pop()***"
      ],
      "metadata": {
        "id": "PFrxDCxEaUhY"
      }
    },
    {
      "cell_type": "code",
      "source": [
        "fruits.pop(2)\n",
        "fruits"
      ],
      "metadata": {
        "colab": {
          "base_uri": "https://localhost:8080/"
        },
        "id": "3c3pN4cPacIB",
        "outputId": "363b53ae-f94c-4753-8e08-1fd184a452ff"
      },
      "execution_count": 263,
      "outputs": [
        {
          "output_type": "execute_result",
          "data": {
            "text/plain": [
              "['apple', 'banana', 'mango']"
            ]
          },
          "metadata": {},
          "execution_count": 263
        }
      ]
    },
    {
      "cell_type": "markdown",
      "source": [
        "the ***in*** operator is used similar to strings"
      ],
      "metadata": {
        "id": "Hl--axK6am32"
      }
    },
    {
      "cell_type": "code",
      "source": [
        "'apple' in fruits"
      ],
      "metadata": {
        "colab": {
          "base_uri": "https://localhost:8080/"
        },
        "id": "H1cTKxR9auGf",
        "outputId": "f9dc7961-7639-4473-a257-799de8850893"
      },
      "execution_count": 264,
      "outputs": [
        {
          "output_type": "execute_result",
          "data": {
            "text/plain": [
              "True"
            ]
          },
          "metadata": {},
          "execution_count": 264
        }
      ]
    },
    {
      "cell_type": "code",
      "source": [
        "'papaya' in fruits "
      ],
      "metadata": {
        "colab": {
          "base_uri": "https://localhost:8080/"
        },
        "id": "HXkVyDhsazzF",
        "outputId": "21ddff6d-de83-4c78-f959-23cc1863ceea"
      },
      "execution_count": 265,
      "outputs": [
        {
          "output_type": "execute_result",
          "data": {
            "text/plain": [
              "False"
            ]
          },
          "metadata": {},
          "execution_count": 265
        }
      ]
    },
    {
      "cell_type": "markdown",
      "source": [
        "We can also us ***+*** to concatenate two or more lists"
      ],
      "metadata": {
        "id": "z5p61EwYa8DF"
      }
    },
    {
      "cell_type": "code",
      "source": [
        "more_fruits = fruits +['papaya','pineappple']\n",
        "more_fruits"
      ],
      "metadata": {
        "colab": {
          "base_uri": "https://localhost:8080/"
        },
        "id": "1rTV7KGibLjU",
        "outputId": "30f7074d-3a40-4f1d-9ee8-2588733c1074"
      },
      "execution_count": 266,
      "outputs": [
        {
          "output_type": "execute_result",
          "data": {
            "text/plain": [
              "['apple', 'banana', 'mango', 'papaya', 'pineappple']"
            ]
          },
          "metadata": {},
          "execution_count": 266
        }
      ]
    },
    {
      "cell_type": "markdown",
      "source": [
        "#Tuple\n",
        "A tuple is an ordered collection of values , similar to a list, however it is not possible to add, remove or modify values in a tuple. We create a tuple by enclosing values within parentheses( and), sparated by commas. Tuples are immutable list sinces they can not be modified after they are created."
      ],
      "metadata": {
        "id": "17dxivL8b0FU"
      }
    },
    {
      "cell_type": "code",
      "source": [
        "fruits2 = ('apple','cherry','dates')\n",
        "type(fruits2)"
      ],
      "metadata": {
        "colab": {
          "base_uri": "https://localhost:8080/"
        },
        "id": "YBF4KlWgcbB3",
        "outputId": "d60495eb-a92d-4044-96e8-2cbcae564823"
      },
      "execution_count": 269,
      "outputs": [
        {
          "output_type": "execute_result",
          "data": {
            "text/plain": [
              "tuple"
            ]
          },
          "metadata": {},
          "execution_count": 269
        }
      ]
    },
    {
      "cell_type": "code",
      "source": [
        "len(fruits2)"
      ],
      "metadata": {
        "colab": {
          "base_uri": "https://localhost:8080/"
        },
        "id": "DlkFuXxuctHg",
        "outputId": "8fb08980-de01-4773-d631-7b40b4c3defc"
      },
      "execution_count": 270,
      "outputs": [
        {
          "output_type": "execute_result",
          "data": {
            "text/plain": [
              "3"
            ]
          },
          "metadata": {},
          "execution_count": 270
        }
      ]
    },
    {
      "cell_type": "code",
      "source": [
        "fruits2[2]"
      ],
      "metadata": {
        "colab": {
          "base_uri": "https://localhost:8080/",
          "height": 35
        },
        "id": "m2XgLJQ4cxvp",
        "outputId": "2360b6bc-de98-4935-e1c9-7779ece17124"
      },
      "execution_count": 271,
      "outputs": [
        {
          "output_type": "execute_result",
          "data": {
            "text/plain": [
              "'dates'"
            ],
            "application/vnd.google.colaboratory.intrinsic+json": {
              "type": "string"
            }
          },
          "metadata": {},
          "execution_count": 271
        }
      ]
    },
    {
      "cell_type": "code",
      "source": [
        "fruits2[-2]"
      ],
      "metadata": {
        "colab": {
          "base_uri": "https://localhost:8080/",
          "height": 35
        },
        "id": "djSB8M0bc2DH",
        "outputId": "fb7e19ed-df22-493d-93a4-201208a0a61d"
      },
      "execution_count": 272,
      "outputs": [
        {
          "output_type": "execute_result",
          "data": {
            "text/plain": [
              "'cherry'"
            ],
            "application/vnd.google.colaboratory.intrinsic+json": {
              "type": "string"
            }
          },
          "metadata": {},
          "execution_count": 272
        }
      ]
    },
    {
      "cell_type": "markdown",
      "source": [
        "#Dictionary\n",
        "Is an unordered collection of items. Each item stored in a dictionary has a key and value. Key is used to retrieve values from the dictionry. dictionaries have the type ***dict***\n",
        "\n",
        "Dictionaries are often used to store many pieces of information e.g detaila about a person, in a sinle variable. Dictionaries are created by enclosing key-value pairs within curly brackets { and }. "
      ],
      "metadata": {
        "id": "K_gfcyTsgKj_"
      }
    },
    {
      "cell_type": "code",
      "source": [
        "person1 = {\n",
        "    'name' : 'John Doe',\n",
        "    'sex': 'Male',\n",
        "    'age': 32,\n",
        "    'married': True\n",
        "} # for example, name is the key and John Doe is the value"
      ],
      "metadata": {
        "id": "bvK2Xwj3hDZU"
      },
      "execution_count": 273,
      "outputs": []
    },
    {
      "cell_type": "code",
      "source": [
        "person1"
      ],
      "metadata": {
        "colab": {
          "base_uri": "https://localhost:8080/"
        },
        "id": "2HU6IINShfwX",
        "outputId": "c6901d94-3bb2-47b2-e22b-34839f2a30b9"
      },
      "execution_count": 274,
      "outputs": [
        {
          "output_type": "execute_result",
          "data": {
            "text/plain": [
              "{'age': 32, 'married': True, 'name': 'John Doe', 'sex': 'Male'}"
            ]
          },
          "metadata": {},
          "execution_count": 274
        }
      ]
    },
    {
      "cell_type": "markdown",
      "source": [
        "You could chose to create a dictionary using the ***dict*** function"
      ],
      "metadata": {
        "id": "7kIsu-tPjRLs"
      }
    },
    {
      "cell_type": "code",
      "source": [
        "person2 = dict(name='Jane Judy', sex='Female', age = 28, married = False)\n",
        "person2"
      ],
      "metadata": {
        "colab": {
          "base_uri": "https://localhost:8080/"
        },
        "id": "F5evt_ttjarN",
        "outputId": "ead65d6b-af15-4478-d2ee-8a8b71dd3fec"
      },
      "execution_count": 277,
      "outputs": [
        {
          "output_type": "execute_result",
          "data": {
            "text/plain": [
              "{'age': 28, 'married': False, 'name': 'Jane Judy', 'sex': 'Female'}"
            ]
          },
          "metadata": {},
          "execution_count": 277
        }
      ]
    },
    {
      "cell_type": "markdown",
      "source": [
        "To access a vale from the dictionary  then you do this by providing a key e.g person1['age']"
      ],
      "metadata": {
        "id": "HDPwAnLDj73M"
      }
    },
    {
      "cell_type": "code",
      "source": [
        "person2['age']"
      ],
      "metadata": {
        "colab": {
          "base_uri": "https://localhost:8080/"
        },
        "id": "nl2B_KORkG9_",
        "outputId": "c2addff6-9f7f-4d90-8b68-e2b56d203827"
      },
      "execution_count": 279,
      "outputs": [
        {
          "output_type": "execute_result",
          "data": {
            "text/plain": [
              "28"
            ]
          },
          "metadata": {},
          "execution_count": 279
        }
      ]
    },
    {
      "cell_type": "markdown",
      "source": [
        "Or you can use the ***.get*** method"
      ],
      "metadata": {
        "id": "e2uCMxyrkhoO"
      }
    },
    {
      "cell_type": "code",
      "source": [
        "person1.get('name')"
      ],
      "metadata": {
        "colab": {
          "base_uri": "https://localhost:8080/",
          "height": 35
        },
        "id": "Bm6R0Vsukpaf",
        "outputId": "59b40472-789b-47c1-c962-fd0140a0cdee"
      },
      "execution_count": 280,
      "outputs": [
        {
          "output_type": "execute_result",
          "data": {
            "text/plain": [
              "'John Doe'"
            ],
            "application/vnd.google.colaboratory.intrinsic+json": {
              "type": "string"
            }
          },
          "metadata": {},
          "execution_count": 280
        }
      ]
    },
    {
      "cell_type": "code",
      "source": [
        "person1.keys() #Will return the keys in this dictionary"
      ],
      "metadata": {
        "colab": {
          "base_uri": "https://localhost:8080/"
        },
        "id": "T2nxQ7AYlHZ8",
        "outputId": "e5a6ac5a-4e5f-425c-fb3c-1d7dcd3690dc"
      },
      "execution_count": 282,
      "outputs": [
        {
          "output_type": "execute_result",
          "data": {
            "text/plain": [
              "dict_keys(['name', 'sex', 'age', 'married'])"
            ]
          },
          "metadata": {},
          "execution_count": 282
        }
      ]
    },
    {
      "cell_type": "code",
      "source": [
        "person2.values() #All the values"
      ],
      "metadata": {
        "colab": {
          "base_uri": "https://localhost:8080/"
        },
        "id": "GvT0HJjIlROG",
        "outputId": "b59acc64-008c-495c-e7d0-b45c1c58ba42"
      },
      "execution_count": 283,
      "outputs": [
        {
          "output_type": "execute_result",
          "data": {
            "text/plain": [
              "dict_values(['Jane Judy', 'Female', 28, False])"
            ]
          },
          "metadata": {},
          "execution_count": 283
        }
      ]
    },
    {
      "cell_type": "code",
      "source": [
        "person1.items() #All the items"
      ],
      "metadata": {
        "colab": {
          "base_uri": "https://localhost:8080/"
        },
        "id": "8WnGcsb9lWwg",
        "outputId": "a0e60b22-5d6e-4002-f71f-5a6deecdd230"
      },
      "execution_count": 284,
      "outputs": [
        {
          "output_type": "execute_result",
          "data": {
            "text/plain": [
              "dict_items([('name', 'John Doe'), ('sex', 'Male'), ('age', 32), ('married', True)])"
            ]
          },
          "metadata": {},
          "execution_count": 284
        }
      ]
    }
  ]
}